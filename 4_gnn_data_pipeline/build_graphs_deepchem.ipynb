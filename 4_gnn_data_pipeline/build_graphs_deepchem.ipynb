{
 "cells": [
  {
   "cell_type": "markdown",
   "id": "827a0394",
   "metadata": {},
   "source": [
    "From JSON file to graphs."
   ]
  },
  {
   "cell_type": "code",
   "execution_count": 3,
   "id": "3e6f0e01",
   "metadata": {},
   "outputs": [
    {
     "name": "stdout",
     "output_type": "stream",
     "text": [
      "Loaded 617 graphs from per-graph JSON.\n"
     ]
    }
   ],
   "source": [
    "import json\n",
    "import numpy as np\n",
    "from spektral.data import Graph\n",
    "\n",
    "# Load the JSON file\n",
    "with open(\"../3_graph_data/deepchem/graphs_targets_deepchem.json\", \"r\") as f:\n",
    "    graph_dicts = json.load(f)\n",
    "\n",
    "graphs = []\n",
    "for gdict in graph_dicts:\n",
    "    x = np.array(gdict[\"node_features\"], dtype=np.float32)\n",
    "    a = np.array(gdict[\"edge_indices\"], dtype=np.int64)\n",
    "    e = np.array(gdict[\"edge_features\"], dtype=np.float32) if gdict[\"edge_features\"] is not None else None\n",
    "    y = np.array(gdict[\"target\"], dtype=np.float32)\n",
    "    g = np.array(gdict[\"global_feature\"], dtype=np.float32)\n",
    "\n",
    "    graph = Graph(x=x, a=a, e=e, y=y, globals=g)\n",
    "    graphs.append(graph)\n",
    "\n",
    "print(f\"Loaded {len(graphs)} graphs from per-graph JSON.\")\n"
   ]
  },
  {
   "cell_type": "markdown",
   "id": "f6683c51",
   "metadata": {},
   "source": [
    "Wrap in Dataset class"
   ]
  },
  {
   "cell_type": "code",
   "execution_count": null,
   "id": "46bbb1d2",
   "metadata": {},
   "outputs": [],
   "source": [
    "from spektral.data import Dataset\n",
    "\n",
    "class CustomDataset(Dataset):\n",
    "    def __init__(self, graph_list, **kwargs):\n",
    "        self.graph_list = graph_list\n",
    "        super().__init__(**kwargs)\n",
    "\n",
    "    def read(self):\n",
    "        return self.graph_list\n",
    "\n",
    "dataset = CustomDataset(graphs)\n"
   ]
  },
  {
   "cell_type": "markdown",
   "id": "a74b9309",
   "metadata": {},
   "source": [
    "Create a Loader"
   ]
  },
  {
   "cell_type": "code",
   "execution_count": null,
   "id": "a115ea72",
   "metadata": {},
   "outputs": [],
   "source": [
    "from spektral.data.loaders import SingleLoader\n",
    "\n",
    "loader = SingleLoader(dataset, batch_size=32, epochs=1, shuffle=True)\n"
   ]
  }
 ],
 "metadata": {
  "kernelspec": {
   "display_name": "deepchem_env",
   "language": "python",
   "name": "python3"
  },
  "language_info": {
   "codemirror_mode": {
    "name": "ipython",
    "version": 3
   },
   "file_extension": ".py",
   "mimetype": "text/x-python",
   "name": "python",
   "nbconvert_exporter": "python",
   "pygments_lexer": "ipython3",
   "version": "3.12.3"
  }
 },
 "nbformat": 4,
 "nbformat_minor": 5
}
